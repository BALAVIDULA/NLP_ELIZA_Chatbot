{
  "nbformat": 4,
  "nbformat_minor": 0,
  "metadata": {
    "colab": {
      "provenance": []
    },
    "kernelspec": {
      "name": "python3",
      "display_name": "Python 3"
    },
    "language_info": {
      "name": "python"
    }
  },
  "cells": [
    {
      "cell_type": "code",
      "execution_count": null,
      "metadata": {
        "id": "0wAy9rn2G8MQ",
        "colab": {
          "base_uri": "https://localhost:8080/"
        },
        "outputId": "e0b09482-99cf-4d63-d5a0-99315ae9b966"
      },
      "outputs": [
        {
          "metadata": {
            "tags": null
          },
          "name": "stdout",
          "output_type": "stream",
          "text": [
            "Hello! \n",
            "Type 'exit' to end the conversation.\n",
            "Bot: Tell me more.\n",
            "Bot: Why do you think you are sad?\n"
          ]
        }
      ],
      "source": [
        "import re\n",
        "import random\n",
        "\n",
        "def eliza_response(user_input):\n",
        "    # Define patterns and corresponding responses\n",
        "    patterns_responses = [\n",
        "        (r'(.*)I\\'m (depressed|sad)', ['I am sorry to hear you are {}.']),\n",
        "        (r'(.*)I am (depressed|sad)', ['Why do you think you are {}?']),\n",
        "        (r'(.*)all', ['In what way {}?', 'Can you provide more details about {}?']),\n",
        "        (r'(.*)always', ['Can you think of a specific example {}?']),\n",
        "        (r'(.*)', ['Tell me more.', 'I see.', 'Can you elaborate?', 'Interesting.']),\n",
        "        (r'(.*)how are you', ['Im just a computer program, but thank you for asking!']),\n",
        "        (r'(.*)what\\'s up|what is up', ['Not much. How about you?']),\n",
        "        (r'(.*)(hello|hi|hey)', ['Hello! How can I assist you today?']),\n",
        "        (r'(.*)(goodbye|bye)', ['Goodbye! Have a great day.']),\n",
        "    ]\n",
        "\n",
        "    # Iterate through patterns and find a match\n",
        "    for pattern, responses in patterns_responses:\n",
        "        match = re.match(pattern, user_input, re.IGNORECASE)\n",
        "        if match:\n",
        "            response = random.choice(responses)\n",
        "            groups = [group for group in match.groups() if group is not None]\n",
        "            return response.format(groups[1] if len(groups) > 1 else groups[0])\n",
        "\n",
        "    return \"I'm not sure I understand. Can you elaborate?\"\n",
        "\n",
        "# Main loop for user interaction\n",
        "print(\"Hello! \\nType 'exit' to end the conversation.\")\n",
        "while True:\n",
        "    user_input = input(\"You: \")\n",
        "\n",
        "    if user_input.lower() == 'exit':\n",
        "        print(\"Goodbye!\")\n",
        "        break\n",
        "\n",
        "    bot_response = eliza_response(user_input)\n",
        "    print(\"Bot:\", bot_response)\n"
      ]
    },
    {
      "cell_type": "code",
      "source": [
        "from transformers import GPT2LMHeadModel, GPT2Tokenizer\n",
        "\n",
        "def generate_response(prompt):\n",
        "    model = GPT2LMHeadModel.from_pretrained(\"gpt2\")\n",
        "    tokenizer = GPT2Tokenizer.from_pretrained(\"gpt2\")\n",
        "\n",
        "    input_ids = tokenizer.encode(prompt, return_tensors=\"pt\")\n",
        "\n",
        "    # Generate a response\n",
        "    output = model.generate(input_ids, max_length=50, num_beams=5, no_repeat_ngram_size=2, top_k=50, top_p=0.95, temperature=0.7)\n",
        "    generated_text = tokenizer.decode(output[0], skip_special_tokens=True)\n",
        "\n",
        "    return generated_text\n",
        "\n",
        "# Main loop for user interaction\n",
        "print(\"Hello! \\nType 'exit' to end the conversation.\")\n",
        "while True:\n",
        "    user_input = input(\"You: \")\n",
        "\n",
        "    if user_input.lower() == 'exit':\n",
        "        print(\"Goodbye!\")\n",
        "        break\n",
        "\n",
        "    bot_response = generate_response(user_input)\n",
        "    print(\"Bot:\", bot_response)\n"
      ],
      "metadata": {
        "id": "wJzgiiktIzm1"
      },
      "execution_count": null,
      "outputs": []
    },
    {
      "cell_type": "code",
      "source": [],
      "metadata": {
        "id": "fyjKWJrwMmNK"
      },
      "execution_count": null,
      "outputs": []
    }
  ]
}